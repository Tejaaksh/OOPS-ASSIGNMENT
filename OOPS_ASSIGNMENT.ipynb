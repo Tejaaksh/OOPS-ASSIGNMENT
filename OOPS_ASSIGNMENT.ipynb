{
  "nbformat": 4,
  "nbformat_minor": 0,
  "metadata": {
    "colab": {
      "provenance": []
    },
    "kernelspec": {
      "name": "python3",
      "display_name": "Python 3"
    },
    "language_info": {
      "name": "python"
    }
  },
  "cells": [
    {
      "cell_type": "code",
      "execution_count": null,
      "metadata": {
        "id": "Bt6nhQag9ptw"
      },
      "outputs": [],
      "source": [
        "\"\"\"1. What are the five key concepts of Object-Oriented Programming (OOP)?\"\"\"\n",
        "# Five Key Concepts of Object-Oriented Programming (OOP):\n",
        "\n",
        "#1. Encapsulation: Bundling the data (attributes) and methods (functions)\n",
        "#that operate on the data into a single unit, such as a class.\n",
        "#It also involves restricting access to certain data by using private or protected modifiers.\n",
        "\n",
        "#2. Abstraction: Hiding the complex implementation details and showing only the essential features of the object.\n",
        "\n",
        "#3. Inheritance: Allowing a new class (child) to inherit properties and behavior (methods) from another class (parent).\n",
        "\n",
        "#4. Polymorphism: The ability to present the same interface for different underlying forms (e.g., method overriding or operator overloading).\n",
        "\n",
        "#5. Modularity: Breaking down large programs into smaller, manageable, and independent modules."
      ]
    },
    {
      "cell_type": "code",
      "source": [
        "\"\"\"2. Write a Python class for a Car with attributes for make, model, and year. Include a method to display\n",
        "the car's information.\"\"\"\n",
        "class Car:\n",
        "    def __init__(self, make, model, year):\n",
        "        self.make = make\n",
        "        self.model = model\n",
        "        self.year = year\n",
        "\n",
        "    def display_info(self):\n",
        "        print(f\"Car: {self.year} {self.make} {self.model}\")\n",
        "\n",
        "my_car = Car(\"Maruti\", \"Wagonr\", 2020)\n",
        "my_car.display_info()"
      ],
      "metadata": {
        "colab": {
          "base_uri": "https://localhost:8080/"
        },
        "id": "51HjTpZq97AB",
        "outputId": "dc2a4d39-c45d-4967-92a8-f75c50236715"
      },
      "execution_count": 1,
      "outputs": [
        {
          "output_type": "stream",
          "name": "stdout",
          "text": [
            "Car: 2020 Maruti Wagonr\n"
          ]
        }
      ]
    },
    {
      "cell_type": "code",
      "source": [
        "\"\"\"3. Explain the difference between instance methods and class methods. Provide an example of each.\"\"\"\n",
        "\n",
        "# Instance Method: Belongs to the object of the class and can access instance attributes and methods.\n",
        "class Example:\n",
        "    def instance_method(self):\n",
        "        return \"This is an instance method\"\n",
        "obj = Example()\n",
        "print(obj.instance_method())"
      ],
      "metadata": {
        "colab": {
          "base_uri": "https://localhost:8080/"
        },
        "id": "BvNZtMtp97Pa",
        "outputId": "470ff0fe-37a3-4372-d57c-f744423cef89"
      },
      "execution_count": 2,
      "outputs": [
        {
          "output_type": "stream",
          "name": "stdout",
          "text": [
            "This is an instance method\n"
          ]
        }
      ]
    },
    {
      "cell_type": "code",
      "source": [
        "#Class Method: Belongs to the class rather than the instance of the class.\n",
        "#It cannot access instance attributes but can access class attributes.\n",
        "#It’s marked with a @classmethod decorator.\n",
        "class Example:\n",
        "    @classmethod\n",
        "    def class_method(cls):\n",
        "        return \"This is a class method\"\n",
        "print(Example.class_method())"
      ],
      "metadata": {
        "colab": {
          "base_uri": "https://localhost:8080/"
        },
        "id": "Zl8doz7L_yoD",
        "outputId": "0d3808a8-59b0-431c-b5d8-79591bdfe218"
      },
      "execution_count": 5,
      "outputs": [
        {
          "output_type": "stream",
          "name": "stdout",
          "text": [
            "This is a class method\n"
          ]
        }
      ]
    },
    {
      "cell_type": "code",
      "source": [
        "\"\"\"4. How does Python implement method overloading? Give an example.\"\"\"\n",
        "\n",
        "#python does not support method overloading directly.\n",
        "#Instead, we can define a method with default parameters or use *args or **kwargs to accept variable arguments.\n",
        "\n",
        "#Example:\n",
        "\n",
        "class OverloadExample:\n",
        "    def display(self, a=None, b=None):\n",
        "        if a is not None and b is not None:\n",
        "            print(f\"a: {a}, b: {b}\")\n",
        "        elif a is not None:\n",
        "            print(f\"a: {a}\")\n",
        "        else:\n",
        "            print(\"No arguments passed\")\n",
        "\n",
        "obj = OverloadExample()\n",
        "obj.display(1, 2)\n",
        "obj.display(1)\n",
        "obj.display()"
      ],
      "metadata": {
        "colab": {
          "base_uri": "https://localhost:8080/"
        },
        "id": "y7lXjQJ397ZC",
        "outputId": "5b6d94f3-7762-46e8-e242-8ac131212e15"
      },
      "execution_count": 6,
      "outputs": [
        {
          "output_type": "stream",
          "name": "stdout",
          "text": [
            "a: 1, b: 2\n",
            "a: 1\n",
            "No arguments passed\n"
          ]
        }
      ]
    },
    {
      "cell_type": "code",
      "source": [
        "\"\"\"5. What are the three types of access modifiers in Python? How are they denoted?\"\"\"\n",
        "# Three Types of Access Modifiers in Python:\n",
        "\n",
        "# Public: Accessible from anywhere (no leading underscore).\n",
        "\n",
        "# Protected: Accessible from within the class and its subclasses (single leading underscore _).\n",
        "\n",
        "# Private: Accessible only within the class (double leading underscore __).\n",
        "\n",
        "#Example:\n",
        "\n",
        "class Example:\n",
        "    def __init__(self):\n",
        "        self.public_var = \"Public\"\n",
        "        self._protected_var = \"Protected\"\n",
        "        self.__private_var = \"Private\""
      ],
      "metadata": {
        "id": "nVp9bf0o_RD2"
      },
      "execution_count": 7,
      "outputs": []
    },
    {
      "cell_type": "code",
      "source": [
        "\"\"\"6. Describe the five types of inheritance in Python. Provide a simple example of multiple inheritance.\"\"\"\n",
        "\n",
        "# Types of Inheritance in Python:\n",
        "\n",
        "# Single Inheritance: A class inherits from one base class.\n",
        "\n",
        "# Multiple Inheritance: A class inherits from more than one base class.\n",
        "\n",
        "# Multilevel Inheritance: A class inherits from a class, which in turn inherits from another class.\n",
        "\n",
        "# Hierarchical Inheritance: Multiple classes inherit from the same base class.\n",
        "\n",
        "# Hybrid Inheritance: A combination of two or more types of inheritance.\n",
        "\n",
        "class A:\n",
        "    def method_a(self):\n",
        "        print(\"Method A\")\n",
        "\n",
        "class B:\n",
        "    def method_b(self):\n",
        "        print(\"Method B\")\n",
        "\n",
        "class C(A, B):\n",
        "    def method_c(self):\n",
        "        print(\"Method C\")\n",
        "\n",
        "obj = C()\n",
        "obj.method_a()\n",
        "obj.method_b()\n",
        "obj.method_c()"
      ],
      "metadata": {
        "colab": {
          "base_uri": "https://localhost:8080/"
        },
        "id": "HyC9yTUv_ntm",
        "outputId": "af05581c-ff9c-4c15-e623-203661563d82"
      },
      "execution_count": 8,
      "outputs": [
        {
          "output_type": "stream",
          "name": "stdout",
          "text": [
            "Method A\n",
            "Method B\n",
            "Method C\n"
          ]
        }
      ]
    },
    {
      "cell_type": "code",
      "source": [
        "\"\"\"7. What is the Method Resolution Order (MRO) in Python? How can you retrieve it programmatically?\"\"\"\n",
        "\n",
        "# MRO determines the order in which Python looks for a method in the hierarchy of classes during inheritance.\n",
        "class A: pass\n",
        "class B(A): pass\n",
        "class C(A): pass\n",
        "class D(B, C): pass\n",
        "\n",
        "print(D.mro())"
      ],
      "metadata": {
        "colab": {
          "base_uri": "https://localhost:8080/"
        },
        "id": "6mYK1okE_oJP",
        "outputId": "90da164d-08bf-49f0-ee63-dd556fcb8ec5"
      },
      "execution_count": 9,
      "outputs": [
        {
          "output_type": "stream",
          "name": "stdout",
          "text": [
            "[<class '__main__.D'>, <class '__main__.B'>, <class '__main__.C'>, <class '__main__.A'>, <class 'object'>]\n"
          ]
        }
      ]
    },
    {
      "cell_type": "code",
      "source": [
        "\"\"\"8. Create an abstract base class Shape with an abstract method area(). Then create two subclasses\n",
        "Circle and Rectangle that implement the area() method.\"\"\"\n",
        "\n",
        "from abc import ABC, abstractmethod\n",
        "\n",
        "class Shape(ABC):\n",
        "    @abstractmethod\n",
        "    def area(self):\n",
        "        pass\n",
        "\n",
        "class Circle(Shape):\n",
        "    def __init__(self, radius):\n",
        "        self.radius = radius\n",
        "\n",
        "    def area(self):\n",
        "        return 3.1416 * (self.radius ** 2)\n",
        "\n",
        "class Rectangle(Shape):\n",
        "    def __init__(self, width, height):\n",
        "        self.width = width\n",
        "        self.height = height\n",
        "\n",
        "    def area(self):\n",
        "        return self.width * self.height"
      ],
      "metadata": {
        "id": "i3bwQ18fAmfg"
      },
      "execution_count": 10,
      "outputs": []
    },
    {
      "cell_type": "code",
      "source": [
        "\"\"\"9. Demonstrate polymorphism by creating a function that can work with different shape objects to calculate\n",
        "and print their areas.\"\"\"\n",
        "\n",
        "def print_area(shape):\n",
        "    print(f\"Area: {shape.area()}\")\n",
        "\n",
        "circle = Circle(5)\n",
        "rectangle = Rectangle(4, 6)\n",
        "\n",
        "print_area(circle)\n",
        "print_area(rectangle)"
      ],
      "metadata": {
        "colab": {
          "base_uri": "https://localhost:8080/"
        },
        "id": "j4oxiNxgAnDd",
        "outputId": "e456e15e-1c76-48b9-bbb1-45feecf20f22"
      },
      "execution_count": 11,
      "outputs": [
        {
          "output_type": "stream",
          "name": "stdout",
          "text": [
            "Area: 78.53999999999999\n",
            "Area: 24\n"
          ]
        }
      ]
    },
    {
      "cell_type": "code",
      "source": [
        "\"\"\"10. Implement encapsulation in a BankAccount class with private attributes for balance and\n",
        "account_number. Include methods for deposit, withdrawal, and balance inquiry.\"\"\"\n",
        "\n",
        "class BankAccount:\n",
        "    def __init__(self, account_number, balance=0):\n",
        "        self.__account_number = account_number\n",
        "        self.__balance = balance\n",
        "\n",
        "    def deposit(self, amount):\n",
        "        self.__balance += amount\n",
        "\n",
        "    def withdraw(self, amount):\n",
        "        if amount <= self.__balance:\n",
        "            self.__balance -= amount\n",
        "        else:\n",
        "            print(\"Insufficient balance\")\n",
        "\n",
        "    def get_balance(self):\n",
        "        return self.__balance\n",
        "\n",
        "account = BankAccount(\"123456789\")\n",
        "account.deposit(500)\n",
        "print(account.get_balance())"
      ],
      "metadata": {
        "colab": {
          "base_uri": "https://localhost:8080/"
        },
        "id": "FlZijwTEAnNK",
        "outputId": "dad04720-e624-4c25-9758-796693cfaf05"
      },
      "execution_count": 12,
      "outputs": [
        {
          "output_type": "stream",
          "name": "stdout",
          "text": [
            "500\n"
          ]
        }
      ]
    },
    {
      "cell_type": "code",
      "source": [
        "\"\"\"11. Write a class that overrides the __str__ and __add__ magic methods. What will these methods allow\n",
        "you to do?\"\"\"\n",
        "\n",
        "class Point:\n",
        "    def __init__(self, x, y):\n",
        "        self.x = x\n",
        "        self.y = y\n",
        "\n",
        "    def __str__(self):\n",
        "        return f\"Point({self.x}, {self.y})\"\n",
        "\n",
        "    def __add__(self, other):\n",
        "        return Point(self.x + other.x, self.y + other.y)\n",
        "\n",
        "p1 = Point(1, 2)\n",
        "p2 = Point(3, 4)\n",
        "print(p1 + p2)"
      ],
      "metadata": {
        "colab": {
          "base_uri": "https://localhost:8080/"
        },
        "id": "3Wthqd4cBHyG",
        "outputId": "479918a4-57f6-475e-821f-7000119f597c"
      },
      "execution_count": 13,
      "outputs": [
        {
          "output_type": "stream",
          "name": "stdout",
          "text": [
            "Point(4, 6)\n"
          ]
        }
      ]
    },
    {
      "cell_type": "code",
      "source": [
        "\"\"\"12. Create a decorator that measures and prints the execution time of a function.\"\"\"\n",
        "import time\n",
        "\n",
        "def execution_time(func):\n",
        "    def wrapper(*args, **kwargs):\n",
        "        start_time = time.time()\n",
        "        result = func(*args, **kwargs)\n",
        "        end_time = time.time()\n",
        "        print(f\"Execution time: {end_time - start_time:.5f} seconds\")\n",
        "        return result\n",
        "    return wrapper\n",
        "\n",
        "@execution_time\n",
        "def sample_function():\n",
        "    time.sleep(1)\n",
        "    print(\"Function complete\")\n",
        "\n",
        "sample_function()"
      ],
      "metadata": {
        "colab": {
          "base_uri": "https://localhost:8080/"
        },
        "id": "0hKb4I98BIMb",
        "outputId": "9a3a72c7-c1c9-44af-a812-3d6603bb2f89"
      },
      "execution_count": 14,
      "outputs": [
        {
          "output_type": "stream",
          "name": "stdout",
          "text": [
            "Function complete\n",
            "Execution time: 1.00232 seconds\n"
          ]
        }
      ]
    },
    {
      "cell_type": "code",
      "source": [
        "\"\"\"13. Explain the concept of the Diamond Problem in multiple inheritance. How does Python resolve it?\"\"\"\n",
        "# The Diamond Problem occurs in multiple inheritance when a class inherits\n",
        "#from two classes that have a common base class, potentially causing ambiguity.\n",
        "#Python resolves this using the Method Resolution Order (MRO) algorithm to determine which method should be called first.\n",
        "\n",
        "#Example:\n",
        "\n",
        "class A: pass\n",
        "class B(A): pass\n",
        "class C(A): pass\n",
        "class D(B, C): pass\n",
        "\n",
        "print(D.mro())  # This will print the MRO to resolve the ambiguity."
      ],
      "metadata": {
        "colab": {
          "base_uri": "https://localhost:8080/"
        },
        "id": "n2MvD5c0Bd3u",
        "outputId": "9627704b-ba12-41e3-8d27-3d1ebf32aaed"
      },
      "execution_count": 15,
      "outputs": [
        {
          "output_type": "stream",
          "name": "stdout",
          "text": [
            "[<class '__main__.D'>, <class '__main__.B'>, <class '__main__.C'>, <class '__main__.A'>, <class 'object'>]\n"
          ]
        }
      ]
    },
    {
      "cell_type": "code",
      "source": [
        "\"\"\"14. Write a class method that keeps track of the number of instances created from a class.\"\"\"\n",
        "\n",
        "class Example:\n",
        "    instance_count = 0\n",
        "\n",
        "    def __init__(self):\n",
        "        Example.instance_count += 1\n",
        "\n",
        "    @classmethod\n",
        "    def get_instance_count(cls):\n",
        "        return cls.instance_count\n",
        "\n",
        "obj1 = Example()\n",
        "obj2 = Example()\n",
        "print(Example.get_instance_count())"
      ],
      "metadata": {
        "colab": {
          "base_uri": "https://localhost:8080/"
        },
        "id": "vamCUNXeBd-Q",
        "outputId": "6e31008d-2acd-406a-d561-6b4daaaeb6ab"
      },
      "execution_count": 16,
      "outputs": [
        {
          "output_type": "stream",
          "name": "stdout",
          "text": [
            "2\n"
          ]
        }
      ]
    },
    {
      "cell_type": "code",
      "source": [
        "\"\"\"15. Implement a static method in a class that checks if a given year is a leap year.\"\"\"\n",
        "\n",
        "class Calendar:\n",
        "    @staticmethod\n",
        "    def is_leap_year(year):\n",
        "        return year % 4 == 0 and (year % 100 != 0 or year % 400 == 0)\n",
        "\n",
        "print(Calendar.is_leap_year(2020))"
      ],
      "metadata": {
        "colab": {
          "base_uri": "https://localhost:8080/"
        },
        "id": "OjL1BuUbA8QB",
        "outputId": "e44c8caa-09af-48b2-bdef-d9271af0619d"
      },
      "execution_count": 17,
      "outputs": [
        {
          "output_type": "stream",
          "name": "stdout",
          "text": [
            "True\n"
          ]
        }
      ]
    },
    {
      "cell_type": "code",
      "source": [],
      "metadata": {
        "id": "DaP333tACHh4"
      },
      "execution_count": null,
      "outputs": []
    }
  ]
}